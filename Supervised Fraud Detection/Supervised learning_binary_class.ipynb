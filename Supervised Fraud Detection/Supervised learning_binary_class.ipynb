{
 "cells": [
  {
   "cell_type": "markdown",
   "metadata": {},
   "source": [
    "# Supervised Machine Learning Techniques for Anamaly Detection\n",
    "\n",
    "### Random Forest and Gradient Boosting \n",
    "\n",
    "Anderson Nelson  <br>\n",
    "Date: 11/17/2019 <br>\n",
    "\n",
    "### Introduction\n",
    "\n",
    "In this exercise, I will walk you through my approach to create a model to identify fraud in financial transaction data. I will cover data preparing the data and train two different model Random Forest and a Gradient Boosting model and optimize the performance by tuning the parameters.  "
   ]
  },
  {
   "cell_type": "code",
   "execution_count": 1,
   "metadata": {},
   "outputs": [],
   "source": [
    "import numpy as np\n",
    "import datetime\n",
    "import h2o \n",
    "\n",
    "import pandas as pd\n",
    "import matplotlib.pyplot as plt\n",
    "import seaborn as sns\n",
    "\n",
    "\n",
    "from sklearn.metrics import roc_curve,auc\n",
    "from sklearn.metrics import average_precision_score\n",
    "from sklearn.metrics import precision_recall_curve\n",
    "from sklearn.model_selection import train_test_split\n",
    "from sklearn.preprocessing import StandardScaler\n",
    "\n",
    "from h2o.estimators.gbm import H2OGradientBoostingEstimator\n",
    "from h2o.estimators.random_forest import H2ORandomForestEstimator\n",
    "from h2o.grid.grid_search import H2OGridSearch\n",
    "\n",
    "import warnings\n",
    "warnings.filterwarnings('ignore')"
   ]
  },
  {
   "cell_type": "code",
   "execution_count": 2,
   "metadata": {},
   "outputs": [],
   "source": [
    "def VarImp(model_name):    \n",
    "    # plot the variable importance\n",
    "    plt.rcdefaults()\n",
    "    variables = model_name._model_json['output']['variable_importances']['variable']\n",
    "    y_pos = np.arange(len(variables))\n",
    "    fig, ax = plt.subplots(figsize = (6,len(variables)/2))\n",
    "    scaled_importance = model_name._model_json['output']['variable_importances']['scaled_importance']\n",
    "    ax.barh(y_pos,scaled_importance,align='center',color='green')\n",
    "    ax.set_yticks(y_pos)\n",
    "    ax.set_yticklabels(variables)\n",
    "    ax.invert_yaxis()\n",
    "    ax.set_xlabel('Scaled Importance')\n",
    "    ax.set_title('Variable Importance')\n",
    "    plt.show()\n",
    "    \n",
    "def createGains(model, test_hex):\n",
    "    predictions = model.predict(test_hex)\n",
    "    \n",
    "    predictions = predictions.as_data_frame()\n",
    "    test_hex = test_hex.as_data_frame()\n",
    "\n",
    "    test_hex['loan_default'] = np.where(test_hex['loan_default'] == 'No', 0,1)\n",
    "    predictions['predict'] = np.where(predictions['predict'] == 'No',0,1)\n",
    "\n",
    "    test_scores = pd.concat([predictions['predict'],test_hex['loan_default']], axis=1)\n",
    "\n",
    "\n",
    "    #sort on prediction (descending), add id, and decile for groups containing 1/10 of datapoints\n",
    "    test_scores = test_scores.sort_values(by='predict',ascending=False)\n",
    "    test_scores['row_id'] = range(0,0+len(test_scores))\n",
    "    test_scores['decile'] = ( test_scores['row_id'] / (len(test_scores)/10) ).astype(int)\n",
    "    #see count by decile\n",
    "    test_scores.loc[test_scores['decile'] == 10]=9\n",
    "    test_scores['decile'].value_counts()\n",
    "\n",
    "    #create gains table\n",
    "    gains = test_scores.groupby('decile')['loan_default'].agg(['count','sum'])\n",
    "    gains.columns = ['count','actual']\n",
    "    \n",
    "\n",
    "    #add features to gains table\n",
    "    gains['non_actual'] = gains['count'] - gains['actual']\n",
    "    gains['cum_count'] = gains['count'].cumsum()\n",
    "    gains['cum_actual'] = gains['actual'].cumsum()\n",
    "    gains['cum_non_actual'] = gains['non_actual'].cumsum()\n",
    "    gains['percent_cum_actual'] = (gains['cum_actual'] / np.max(gains['cum_actual'])).round(2)\n",
    "    gains['percent_cum_non_actual'] = (gains['cum_non_actual'] / np.max(gains['cum_non_actual'])).round(2)\n",
    "    gains['if_random'] = np.max(gains['cum_actual']) /10 \n",
    "    gains['if_random'] = gains['if_random'].cumsum()\n",
    "    gains['lift'] = (gains['cum_actual'] / gains['if_random']).round(2)\n",
    "    gains['K_S'] = np.abs( gains['percent_cum_actual'] -  gains['percent_cum_non_actual'] ) * 100\n",
    "    gains['gain']=(gains['cum_actual']/gains['cum_count']*100).round(2)\n",
    "    gains = pd.DataFrame(gains)\n",
    "    return(gains)\n",
    "\n",
    "\n",
    "def ROC_AUC(my_result,df,target):\n",
    "    \n",
    "    y_pred = my_result.predict(df).as_data_frame()\n",
    "    df = df.as_data_frame()\n",
    "    df[target] = np.where(df[target] == 'No', 0,1)\n",
    "    # ROC\n",
    "    y_actual = df[target]\n",
    "    \n",
    "    y_pred['predict'] = np.where(y_pred['predict'] == 'No', 0,1)\n",
    "    \n",
    "    fpr = list()\n",
    "    tpr = list()\n",
    "    roc_auc = list()\n",
    "    fpr,tpr,_ = roc_curve(y_actual,y_pred['predict'])\n",
    "    roc_auc = auc(fpr,tpr)\n",
    "    \n",
    "    # Precision-Recall\n",
    "    average_precision = average_precision_score(y_actual,y_pred['predict'])\n",
    "\n",
    "    print('')\n",
    "    print('   * ROC curve: The ROC curve plots the true positive rate vs. the false rositive sate')\n",
    "    print('')\n",
    "    print('\t  * The area under the curve (AUC): A value between 0.5 (random) and 1.0 (perfect), measuring the prediction accuracy')\n",
    "    print('')\n",
    "    print('   * Recall (R) = The number of true positives / (the number of true positives + the number of false negatives)')\n",
    "    print('')\n",
    "    \n",
    "    # plotting\n",
    "    plt.figure(figsize=(9,6))\n",
    "\n",
    "    # ROC\n",
    "    plt.subplot(1,2,1)\n",
    "    plt.plot(fpr,tpr,color='darkorange',lw=2,label='ROC curve (aare=%0.2f)' % roc_auc)\n",
    "    plt.plot([0,1],[0,1],color='navy',lw=3,linestyle='--')\n",
    "    plt.xlim([0.0,1.0])\n",
    "    plt.ylim([0.0,1.05])\n",
    "    plt.xlabel('False Positive Rate')\n",
    "    plt.ylabel('True Positive Rate')\n",
    "    plt.title('Receiver operating characteristic: AUC={0:0.4f}'.format(roc_auc))\n",
    "    plt.legend(loc='lower right')\n",
    "\n",
    "    # Precision-Recall\n",
    "    plt.subplot(1,2,2)\n",
    "    precision,recall,_ = precision_recall_curve(y_actual,y_pred['predict'])\n",
    "    plt.step(recall,precision,color='b',alpha=0.2,where='post')\n",
    "    plt.fill_between(recall,precision,step='post',alpha=0.2,color='b')\n",
    "    plt.xlabel('Recall')\n",
    "    plt.ylabel('Precision')\n",
    "    plt.ylim([0.0,1.05])\n",
    "    plt.xlim([0.0,1.0])\n",
    "    plt.title('Precision-Recall curve: PR={0:0.4f}'.format(average_precision))\n",
    "    plt.show()\n",
    "    \n",
    "\n",
    "def plot_auc(model):\n",
    "    plt.figure(figsize=(9,6))\n",
    "    plt.plot(model.roc()[0],model.roc()[1],color='darkorange',lw=2)\n",
    "    plt.plot([0,1],[0,1],color='navy',lw=3,linestyle='--')\n",
    "    plt.xlabel('False Positive Rate')\n",
    "    plt.ylabel('True Positive Rate')\n",
    "    plt.title(f'Receiver operating characteristic: AUC={model.auc():0.4f}')\n",
    "    plt.show()\n",
    "    \n",
    "def column_scaler(data): \n",
    "    data_scaler = StandardScaler()\n",
    "    for value in data.columns: \n",
    "        testing_data = pd.DataFrame(data.loc[:,value])\n",
    "        data.loc[:,value] = data_scaler.fit_transform(testing_data)\n",
    "        return data"
   ]
  },
  {
   "cell_type": "code",
   "execution_count": 3,
   "metadata": {},
   "outputs": [],
   "source": [
    "# read data \n",
    "data = pd.read_csv('Data/XYZloan_default_selected_vars.csv')\n",
    "\n",
    "# drop neccessary columns \n",
    "data = data.drop(columns=['Unnamed: 0','Unnamed: 0.1'])"
   ]
  },
  {
   "cell_type": "markdown",
   "metadata": {},
   "source": [
    "The first thing i wanted to do is check whether the data contains any duplicate id."
   ]
  },
  {
   "cell_type": "code",
   "execution_count": 4,
   "metadata": {},
   "outputs": [
    {
     "data": {
      "text/plain": [
       "0"
      ]
     },
     "execution_count": 4,
     "metadata": {},
     "output_type": "execute_result"
    }
   ],
   "source": [
    "# are there any duplicated id \n",
    "sum(data.id.duplicated())"
   ]
  },
  {
   "cell_type": "markdown",
   "metadata": {},
   "source": [
    "The first step to an analysis is to understand the data. Lets start with understanding how missing values."
   ]
  },
  {
   "cell_type": "code",
   "execution_count": 5,
   "metadata": {},
   "outputs": [
    {
     "data": {
      "text/plain": [
       "'9.0% of the data is missing'"
      ]
     },
     "execution_count": 5,
     "metadata": {},
     "output_type": "execute_result"
    }
   ],
   "source": [
    "f'{round(sum(data.isna().sum()) /(data.shape[1] * data.shape[0]),2) * 100}% of the data is missing'"
   ]
  },
  {
   "cell_type": "code",
   "execution_count": 6,
   "metadata": {},
   "outputs": [
    {
     "data": {
      "text/plain": [
       "'9.0% of the data is null'"
      ]
     },
     "execution_count": 6,
     "metadata": {},
     "output_type": "execute_result"
    }
   ],
   "source": [
    "f'{round(sum(data.isnull().sum()) /(data.shape[1] * data.shape[0]),2) * 100}% of the data is null'"
   ]
  },
  {
   "cell_type": "markdown",
   "metadata": {},
   "source": [
    "The number of missing values represents a small percentage of the dataset. However, those values shouldn’t be ignored. There are a number of different strategies to deal with missing values.\n",
    "\n",
    "    1. Imputation\n",
    "    2. Deletion\n",
    "\n",
    "Exploring the colums with missing data will allow us to determine the best strategy to solve the missing data problem."
   ]
  },
  {
   "cell_type": "code",
   "execution_count": 7,
   "metadata": {},
   "outputs": [],
   "source": [
    "col_missing = round((data.isna().sum() / data.shape[0]) * 100,2)"
   ]
  },
  {
   "cell_type": "markdown",
   "metadata": {},
   "source": [
    "The graph shows us that there are a few collumn where more than 99% of the data is missing or null"
   ]
  },
  {
   "cell_type": "code",
   "execution_count": 8,
   "metadata": {},
   "outputs": [
    {
     "data": {
      "image/png": "[encoded data removed]",
      "text/plain": [
       "<Figure size 1152x360 with 1 Axes>"
      ]
     },
     "metadata": {
      "needs_background": "light"
     },
     "output_type": "display_data"
    }
   ],
   "source": [
    "fig = plt.figure(figsize=(16,5))\n",
    "col_missing.plot()\n",
    "plt.show()"
   ]
  },
  {
   "cell_type": "code",
   "execution_count": 9,
   "metadata": {},
   "outputs": [
    {
     "data": {
      "text/plain": [
       "TD044    100.00\n",
       "TD048    100.00\n",
       "TD051     99.99\n",
       "TD054     99.98\n",
       "TD055    100.00\n",
       "TD061     99.99\n",
       "TD062    100.00\n",
       "dtype: float64"
      ]
     },
     "execution_count": 9,
     "metadata": {},
     "output_type": "execute_result"
    }
   ],
   "source": [
    "col_missing[col_missing > 99]"
   ]
  },
  {
   "cell_type": "markdown",
   "metadata": {},
   "source": [
    "We will remove those columns since "
   ]
  },
  {
   "cell_type": "code",
   "execution_count": 10,
   "metadata": {},
   "outputs": [
    {
     "data": {
      "image/png": "[encoded data removed]",
      "text/plain": [
       "<Figure size 864x864 with 1 Axes>"
      ]
     },
     "metadata": {
      "needs_background": "light"
     },
     "output_type": "display_data"
    }
   ],
   "source": [
    "data = data.drop(columns=col_missing[col_missing > 99].index)\n",
    "col_missing = round((data.isna().sum() / data.shape[0]) * 100,2)\n",
    "fig = plt.figure(figsize=(12,12))\n",
    "col_missing.plot()\n",
    "plt.show()"
   ]
  },
  {
   "cell_type": "markdown",
   "metadata": {},
   "source": [
    "A few users represent the missing values in the data; after further analysis, it seems that missing patterns exist from a distinct group of users. The columns that have missing values also follow a pattern; they are all related to the phone. There are several reasons why that column could be missing: but the most likely reason is that those people don’t have a phone number, or it was never provided to the company.\n",
    "\n",
    "The best option is to either remove them from the data or impute with 0. If we exclude from the data, a small but essential segment of our population could be misrepresented; on the contrary, if we include it could potentially skew the analysis since we assumed the missing values.\n",
    "\n",
    "However, inputting the values with 0 makes the most sense for this data since, given that the users do not have a phone, the bank would be unable to call, leave voicemails and converse with the client, which is fair."
   ]
  },
  {
   "cell_type": "code",
   "execution_count": 11,
   "metadata": {},
   "outputs": [
    {
     "data": {
      "text/plain": [
       "TD022    24.50\n",
       "TD023     9.58\n",
       "TD024     4.62\n",
       "MB005     3.49\n",
       "TD025     3.19\n",
       "         ...  \n",
       "CR015     0.00\n",
       "CR017     0.00\n",
       "CR018     0.00\n",
       "CR019     0.00\n",
       "id        0.00\n",
       "Length: 80, dtype: float64"
      ]
     },
     "execution_count": 11,
     "metadata": {},
     "output_type": "execute_result"
    }
   ],
   "source": [
    "col_missing.sort_values(ascending=False)"
   ]
  },
  {
   "cell_type": "code",
   "execution_count": 12,
   "metadata": {},
   "outputs": [],
   "source": [
    "data = data.fillna(0)"
   ]
  },
  {
   "cell_type": "markdown",
   "metadata": {},
   "source": [
    "The MB007 column contains many categorical values. I discovered that the top 9 values contribute to over 90% of the distribution. I gave the other categories the value of 'Other'. "
   ]
  },
  {
   "cell_type": "code",
   "execution_count": 13,
   "metadata": {},
   "outputs": [],
   "source": [
    "MB007_value_count = pd.DataFrame(data.MB007.value_counts())\n",
    "MB007_value_count['cum_sum'] = MB007_value_count.cumsum()\n",
    "MB007_value_count['%'] = MB007_value_count['cum_sum'] / 80000\n",
    "MB007_value_count = MB007_value_count.drop(index='Noinfo')"
   ]
  },
  {
   "cell_type": "code",
   "execution_count": 14,
   "metadata": {},
   "outputs": [],
   "source": [
    "data['MB007'] = data['MB007'].apply(lambda i: i if i in MB007_value_count[1:10].index else 'Other')"
   ]
  },
  {
   "cell_type": "markdown",
   "metadata": {},
   "source": [
    "Since the values in column MBOO7 and AP006 are not ordinal, to prevent the model from assigning a higher value to the categorical data. I will One hot encode the variables "
   ]
  },
  {
   "cell_type": "code",
   "execution_count": 15,
   "metadata": {},
   "outputs": [],
   "source": [
    "data = pd.concat([data.reset_index(drop=True), pd.get_dummies(data.MB007)], axis=1)\n",
    "data = pd.concat([data.reset_index(drop=True), pd.get_dummies(data.AP006)], axis=1)\n",
    "data = data.drop(columns=['MB007','AP006'])"
   ]
  },
  {
   "cell_type": "markdown",
   "metadata": {},
   "source": [
    "After searching throughout the entire model for abnormalities, I found that the are numerous -99 value, which is another form of Null recorded. A small number of users have a considerable proportion of 99 values in their records. Those users can skew the model results, and I remove them."
   ]
  },
  {
   "cell_type": "code",
   "execution_count": 16,
   "metadata": {},
   "outputs": [],
   "source": [
    "# how many -99 values per user id \n",
    "user_list_99 = []\n",
    "for row in range(0, len(data)):\n",
    "    row_data = data.iloc[row]\n",
    "    user_list_99.append(list(row_data).count(-99))"
   ]
  },
  {
   "cell_type": "code",
   "execution_count": 17,
   "metadata": {},
   "outputs": [],
   "source": [
    "_99_count= pd.DataFrame({'id': data.iloc[:,0],\n",
    "             '99_count' : user_list_99})"
   ]
  },
  {
   "cell_type": "code",
   "execution_count": 18,
   "metadata": {},
   "outputs": [
    {
     "data": {
      "text/plain": [
       "36    1773\n",
       "42    1534\n",
       "Name: 99_count, dtype: int64"
      ]
     },
     "execution_count": 18,
     "metadata": {},
     "output_type": "execute_result"
    }
   ],
   "source": [
    "# how many id have more than 1 -99 values and how many 99 values exsist \n",
    "_99_count[_99_count['99_count'] > 0]\n",
    "_99_count[_99_count['99_count'] > 0]['99_count'].value_counts()"
   ]
  },
  {
   "cell_type": "code",
   "execution_count": 19,
   "metadata": {},
   "outputs": [
    {
     "data": {
      "text/plain": [
       "'4.13% of users have more than 36 values labels as -99 in their respective row'"
      ]
     },
     "execution_count": 19,
     "metadata": {},
     "output_type": "execute_result"
    }
   ],
   "source": [
    "f'{round((len(_99_count[_99_count[\"99_count\"] > 0][\"99_count\"]) / len(data)) * 100,2)}% of users have more than 36 values labels as -99 in their respective row'"
   ]
  },
  {
   "cell_type": "code",
   "execution_count": 20,
   "metadata": {},
   "outputs": [],
   "source": [
    "# remove the ids with -99 values \n",
    "_99_count[_99_count['99_count'] > 0]['id'].values\n",
    "data = data[~data.iloc[:,0].isin(_99_count[_99_count['99_count'] > 0]['id'].values)].reset_index()"
   ]
  },
  {
   "cell_type": "markdown",
   "metadata": {},
   "source": [
    "Lastly, I found that the date variable had predictive power in my model, However, it doesn't make sense to include in my model. "
   ]
  },
  {
   "cell_type": "code",
   "execution_count": 21,
   "metadata": {},
   "outputs": [],
   "source": [
    "# covert AP005 into date and time \n",
    "data = data.drop(columns='AP005')"
   ]
  },
  {
   "cell_type": "markdown",
   "metadata": {},
   "source": [
    "Convert 0 = No and 1 = Yes in the default"
   ]
  },
  {
   "cell_type": "code",
   "execution_count": 22,
   "metadata": {},
   "outputs": [],
   "source": [
    "# convert the loan_faults into categerical \n",
    "data['loan_default'] = np.where(data['loan_default'] == 0, 'No','Yes')"
   ]
  },
  {
   "cell_type": "markdown",
   "metadata": {},
   "source": [
    "#### Standardized valriables: \n",
    "\n",
    "The dataset contains features highly varying in magnitudes, units and range. Since, most of the machine learning algorithms use Eucledian distance between two data points in their computations this could potential be a problem if not addressed.\n",
    "\n",
    "However, Tree based models are not distance based models and can handle varying ranges of features. I elected not to scale my variables since while modelling trees."
   ]
  },
  {
   "cell_type": "code",
   "execution_count": 23,
   "metadata": {},
   "outputs": [],
   "source": [
    "clean_data= data.drop(columns=['index', 'id'])"
   ]
  },
  {
   "cell_type": "code",
   "execution_count": 24,
   "metadata": {},
   "outputs": [],
   "source": [
    "train, test = train_test_split(\n",
    "    clean_data, test_size=0.30, random_state=23)\n",
    "\n",
    "target = 'loan_default'\n",
    "predictors = train.columns[1:]"
   ]
  },
  {
   "cell_type": "code",
   "execution_count": 25,
   "metadata": {},
   "outputs": [
    {
     "name": "stdout",
     "output_type": "stream",
     "text": [
      "Checking whether there is an H2O instance running at http://localhost:54321 ..... not found.\n",
      "Attempting to start a local H2O server...\n",
      "; Java HotSpot(TM) 64-Bit Server VM (build 25.231-b11, mixed mode)\n",
      "  Starting server from C:\\Users\\ander\\Anaconda3\\lib\\site-packages\\h2o\\backend\\bin\\h2o.jar\n",
      "  Ice root: C:\\Users\\ander\\AppData\\Local\\Temp\\tmp9vcswp5j\n",
      "  JVM stdout: C:\\Users\\ander\\AppData\\Local\\Temp\\tmp9vcswp5j\\h2o_ander_started_from_python.out\n",
      "  JVM stderr: C:\\Users\\ander\\AppData\\Local\\Temp\\tmp9vcswp5j\\h2o_ander_started_from_python.err\n",
      "  Server is running at http://127.0.0.1:54321\n",
      "Connecting to H2O server at http://127.0.0.1:54321 ... successful.\n"
     ]
    },
    {
     "data": {
      "text/html": [
       "<div style=\"overflow:auto\"><table style=\"width:50%\"><tr><td>H2O cluster uptime:</td>\n",
       "<td>01 secs</td></tr>\n",
       "<tr><td>H2O cluster timezone:</td>\n",
       "<td>America/New_York</td></tr>\n",
       "<tr><td>H2O data parsing timezone:</td>\n",
       "<td>UTC</td></tr>\n",
       "<tr><td>H2O cluster version:</td>\n",
       "<td>3.26.0.10</td></tr>\n",
       "<tr><td>H2O cluster version age:</td>\n",
       "<td>11 days </td></tr>\n",
       "<tr><td>H2O cluster name:</td>\n",
       "<td>H2O_from_python_ander_ehyew8</td></tr>\n",
       "<tr><td>H2O cluster total nodes:</td>\n",
       "<td>1</td></tr>\n",
       "<tr><td>H2O cluster free memory:</td>\n",
       "<td>3.516 Gb</td></tr>\n",
       "<tr><td>H2O cluster total cores:</td>\n",
       "<td>8</td></tr>\n",
       "<tr><td>H2O cluster allowed cores:</td>\n",
       "<td>8</td></tr>\n",
       "<tr><td>H2O cluster status:</td>\n",
       "<td>accepting new members, healthy</td></tr>\n",
       "<tr><td>H2O connection url:</td>\n",
       "<td>http://127.0.0.1:54321</td></tr>\n",
       "<tr><td>H2O connection proxy:</td>\n",
       "<td>{'http': None, 'https': None}</td></tr>\n",
       "<tr><td>H2O internal security:</td>\n",
       "<td>False</td></tr>\n",
       "<tr><td>H2O API Extensions:</td>\n",
       "<td>Amazon S3, Algos, AutoML, Core V3, TargetEncoder, Core V4</td></tr>\n",
       "<tr><td>Python version:</td>\n",
       "<td>3.7.4 final</td></tr></table></div>"
      ],
      "text/plain": [
       "--------------------------  ---------------------------------------------------------\n",
       "H2O cluster uptime:         01 secs\n",
       "H2O cluster timezone:       America/New_York\n",
       "H2O data parsing timezone:  UTC\n",
       "H2O cluster version:        3.26.0.10\n",
       "H2O cluster version age:    11 days\n",
       "H2O cluster name:           H2O_from_python_ander_ehyew8\n",
       "H2O cluster total nodes:    1\n",
       "H2O cluster free memory:    3.516 Gb\n",
       "H2O cluster total cores:    8\n",
       "H2O cluster allowed cores:  8\n",
       "H2O cluster status:         accepting new members, healthy\n",
       "H2O connection url:         http://127.0.0.1:54321\n",
       "H2O connection proxy:       {'http': None, 'https': None}\n",
       "H2O internal security:      False\n",
       "H2O API Extensions:         Amazon S3, Algos, AutoML, Core V3, TargetEncoder, Core V4\n",
       "Python version:             3.7.4 final\n",
       "--------------------------  ---------------------------------------------------------"
      ]
     },
     "metadata": {},
     "output_type": "display_data"
    }
   ],
   "source": [
    "h2o.init()"
   ]
  },
  {
   "cell_type": "code",
   "execution_count": 26,
   "metadata": {},
   "outputs": [
    {
     "name": "stdout",
     "output_type": "stream",
     "text": [
      "Parse progress: |█████████████████████████████████████████████████████████| 100%\n",
      "Parse progress: |█████████████████████████████████████████████████████████| 100%\n",
      "Parse progress: |█████████████████████████████████████████████████████████| 100%\n",
      "Parse progress: |█████████████████████████████████████████████████████████| 100%\n"
     ]
    }
   ],
   "source": [
    "# full data\n",
    "train_full = h2o.H2OFrame(train)\n",
    "test_full = h2o.H2OFrame(test)\n",
    "\n",
    "# sample data to test \n",
    "train_smpl = train.sample(frac=0.1, random_state=1)\n",
    "test_smpl = test.sample(frac=0.1, random_state=1)\n",
    "train_hex = h2o.H2OFrame(train_smpl)\n",
    "test_hex = h2o.H2OFrame(test_smpl)"
   ]
  },
  {
   "cell_type": "markdown",
   "metadata": {},
   "source": [
    "### Model 1: \n",
    "\n",
    "As a first step, i'll build a test models to measure performance against. Given that we have an ubalanced dataset I'm goint to used balance_classes = True, and stopping metric of AUCPR. \n",
    "\n",
    "The main difference between AUC and AUCPR is that AUC calculates the area under the ROC curve and AUCPR calculates the area under the Precision Recall curve. The Precision Recall curve does not care about True Negatives. For imbalanced data, a large quantity of True Negatives usually overshadows the effects of changes in other metrics like False Positives. The AUCPR will be much more sensitive to True Positives, False Positives, and False Negatives than AUC. As such, AUCPR is recommended over AUC for highly imbalanced data.\n",
    "\n",
    "\n",
    "I'm using more than enough trees to train the preliminary model, however I've implemented early stopping if the models isn't improving as measured by the AUCPR after 5 consecutive attempts "
   ]
  },
  {
   "cell_type": "code",
   "execution_count": 27,
   "metadata": {},
   "outputs": [],
   "source": [
    "rf_v1 = H2ORandomForestEstimator(\n",
    "        model_id = 'rf_v1',\n",
    "        max_depth = 10,\n",
    "        ntrees = 900,\n",
    "        balance_classes = True, \n",
    "        stopping_rounds = 5, \n",
    "        stopping_tolerance = 1e-4, stopping_metric = \"AUCPR\",  \n",
    "        nfolds=10,\n",
    "        min_rows=100,\n",
    "        seed=1234)"
   ]
  },
  {
   "cell_type": "code",
   "execution_count": 28,
   "metadata": {},
   "outputs": [
    {
     "name": "stdout",
     "output_type": "stream",
     "text": [
      "drf Model Build progress: |███████████████████████████████████████████████| 100%\n"
     ]
    }
   ],
   "source": [
    "rf_v1.train(list(predictors),target,training_frame=train_hex,validation_frame=test_hex)"
   ]
  },
  {
   "cell_type": "code",
   "execution_count": 29,
   "metadata": {},
   "outputs": [],
   "source": [
    "rf_v1_test = rf_v1.model_performance(test_hex)"
   ]
  },
  {
   "cell_type": "code",
   "execution_count": 30,
   "metadata": {},
   "outputs": [
    {
     "data": {
      "image/png": "[encoded data removed]",
      "text/plain": [
       "<Figure size 648x432 with 1 Axes>"
      ]
     },
     "metadata": {
      "needs_background": "light"
     },
     "output_type": "display_data"
    }
   ],
   "source": [
    "plot_auc(rf_v1_test)"
   ]
  },
  {
   "cell_type": "code",
   "execution_count": 31,
   "metadata": {},
   "outputs": [
    {
     "name": "stdout",
     "output_type": "stream",
     "text": [
      "\n",
      "Gains/Lift Table: Avg response rate: 19.86 %, avg score: 17.97 %\n"
     ]
    },
    {
     "data": {
      "text/html": [
       "<div>\n",
       "<style scoped>\n",
       "    .dataframe tbody tr th:only-of-type {\n",
       "        vertical-align: middle;\n",
       "    }\n",
       "\n",
       "    .dataframe tbody tr th {\n",
       "        vertical-align: top;\n",
       "    }\n",
       "\n",
       "    .dataframe thead th {\n",
       "        text-align: right;\n",
       "    }\n",
       "</style>\n",
       "<table border=\"1\" class=\"dataframe\">\n",
       "  <thead>\n",
       "    <tr style=\"text-align: right;\">\n",
       "      <th></th>\n",
       "      <th></th>\n",
       "      <th>group</th>\n",
       "      <th>cumulative_data_fraction</th>\n",
       "      <th>lower_threshold</th>\n",
       "      <th>lift</th>\n",
       "      <th>cumulative_lift</th>\n",
       "      <th>response_rate</th>\n",
       "      <th>score</th>\n",
       "      <th>cumulative_response_rate</th>\n",
       "      <th>cumulative_score</th>\n",
       "      <th>capture_rate</th>\n",
       "      <th>cumulative_capture_rate</th>\n",
       "      <th>gain</th>\n",
       "      <th>cumulative_gain</th>\n",
       "    </tr>\n",
       "  </thead>\n",
       "  <tbody>\n",
       "    <tr>\n",
       "      <td>0</td>\n",
       "      <td></td>\n",
       "      <td>1</td>\n",
       "      <td>0.010430</td>\n",
       "      <td>0.344487</td>\n",
       "      <td>2.097921</td>\n",
       "      <td>2.097921</td>\n",
       "      <td>0.416667</td>\n",
       "      <td>0.368800</td>\n",
       "      <td>0.416667</td>\n",
       "      <td>0.368800</td>\n",
       "      <td>0.021882</td>\n",
       "      <td>0.021882</td>\n",
       "      <td>109.792123</td>\n",
       "      <td>109.792123</td>\n",
       "    </tr>\n",
       "    <tr>\n",
       "      <td>1</td>\n",
       "      <td></td>\n",
       "      <td>2</td>\n",
       "      <td>0.020426</td>\n",
       "      <td>0.324085</td>\n",
       "      <td>1.532395</td>\n",
       "      <td>1.821174</td>\n",
       "      <td>0.304348</td>\n",
       "      <td>0.333783</td>\n",
       "      <td>0.361702</td>\n",
       "      <td>0.351664</td>\n",
       "      <td>0.015317</td>\n",
       "      <td>0.037199</td>\n",
       "      <td>53.239463</td>\n",
       "      <td>82.117417</td>\n",
       "    </tr>\n",
       "    <tr>\n",
       "      <td>2</td>\n",
       "      <td></td>\n",
       "      <td>3</td>\n",
       "      <td>0.030422</td>\n",
       "      <td>0.313123</td>\n",
       "      <td>1.970222</td>\n",
       "      <td>1.870147</td>\n",
       "      <td>0.391304</td>\n",
       "      <td>0.318792</td>\n",
       "      <td>0.371429</td>\n",
       "      <td>0.340863</td>\n",
       "      <td>0.019694</td>\n",
       "      <td>0.056893</td>\n",
       "      <td>97.022167</td>\n",
       "      <td>87.014692</td>\n",
       "    </tr>\n",
       "    <tr>\n",
       "      <td>3</td>\n",
       "      <td></td>\n",
       "      <td>4</td>\n",
       "      <td>0.040417</td>\n",
       "      <td>0.302432</td>\n",
       "      <td>1.751308</td>\n",
       "      <td>1.840757</td>\n",
       "      <td>0.347826</td>\n",
       "      <td>0.307329</td>\n",
       "      <td>0.365591</td>\n",
       "      <td>0.332570</td>\n",
       "      <td>0.017505</td>\n",
       "      <td>0.074398</td>\n",
       "      <td>75.130815</td>\n",
       "      <td>84.075669</td>\n",
       "    </tr>\n",
       "    <tr>\n",
       "      <td>4</td>\n",
       "      <td></td>\n",
       "      <td>5</td>\n",
       "      <td>0.050413</td>\n",
       "      <td>0.295431</td>\n",
       "      <td>1.970222</td>\n",
       "      <td>1.866426</td>\n",
       "      <td>0.391304</td>\n",
       "      <td>0.298538</td>\n",
       "      <td>0.370690</td>\n",
       "      <td>0.325822</td>\n",
       "      <td>0.019694</td>\n",
       "      <td>0.094092</td>\n",
       "      <td>97.022167</td>\n",
       "      <td>86.642647</td>\n",
       "    </tr>\n",
       "    <tr>\n",
       "      <td>5</td>\n",
       "      <td></td>\n",
       "      <td>6</td>\n",
       "      <td>0.100391</td>\n",
       "      <td>0.266970</td>\n",
       "      <td>1.751308</td>\n",
       "      <td>1.809116</td>\n",
       "      <td>0.347826</td>\n",
       "      <td>0.278791</td>\n",
       "      <td>0.359307</td>\n",
       "      <td>0.302408</td>\n",
       "      <td>0.087527</td>\n",
       "      <td>0.181619</td>\n",
       "      <td>75.130815</td>\n",
       "      <td>80.911649</td>\n",
       "    </tr>\n",
       "    <tr>\n",
       "      <td>6</td>\n",
       "      <td></td>\n",
       "      <td>7</td>\n",
       "      <td>0.150369</td>\n",
       "      <td>0.245081</td>\n",
       "      <td>1.619960</td>\n",
       "      <td>1.746247</td>\n",
       "      <td>0.321739</td>\n",
       "      <td>0.254879</td>\n",
       "      <td>0.346821</td>\n",
       "      <td>0.286611</td>\n",
       "      <td>0.080963</td>\n",
       "      <td>0.262582</td>\n",
       "      <td>61.996004</td>\n",
       "      <td>74.624657</td>\n",
       "    </tr>\n",
       "    <tr>\n",
       "      <td>7</td>\n",
       "      <td></td>\n",
       "      <td>8</td>\n",
       "      <td>0.200348</td>\n",
       "      <td>0.229632</td>\n",
       "      <td>1.401047</td>\n",
       "      <td>1.660134</td>\n",
       "      <td>0.278261</td>\n",
       "      <td>0.236545</td>\n",
       "      <td>0.329718</td>\n",
       "      <td>0.274122</td>\n",
       "      <td>0.070022</td>\n",
       "      <td>0.332604</td>\n",
       "      <td>40.104652</td>\n",
       "      <td>66.013376</td>\n",
       "    </tr>\n",
       "    <tr>\n",
       "      <td>8</td>\n",
       "      <td></td>\n",
       "      <td>9</td>\n",
       "      <td>0.300304</td>\n",
       "      <td>0.206846</td>\n",
       "      <td>1.357264</td>\n",
       "      <td>1.559323</td>\n",
       "      <td>0.269565</td>\n",
       "      <td>0.217264</td>\n",
       "      <td>0.309696</td>\n",
       "      <td>0.255196</td>\n",
       "      <td>0.135667</td>\n",
       "      <td>0.468271</td>\n",
       "      <td>35.726382</td>\n",
       "      <td>55.932321</td>\n",
       "    </tr>\n",
       "    <tr>\n",
       "      <td>9</td>\n",
       "      <td></td>\n",
       "      <td>10</td>\n",
       "      <td>0.400261</td>\n",
       "      <td>0.189302</td>\n",
       "      <td>1.050785</td>\n",
       "      <td>1.432327</td>\n",
       "      <td>0.208696</td>\n",
       "      <td>0.197738</td>\n",
       "      <td>0.284473</td>\n",
       "      <td>0.240848</td>\n",
       "      <td>0.105033</td>\n",
       "      <td>0.573304</td>\n",
       "      <td>5.078489</td>\n",
       "      <td>43.232667</td>\n",
       "    </tr>\n",
       "    <tr>\n",
       "      <td>10</td>\n",
       "      <td></td>\n",
       "      <td>11</td>\n",
       "      <td>0.500217</td>\n",
       "      <td>0.172803</td>\n",
       "      <td>1.007002</td>\n",
       "      <td>1.347336</td>\n",
       "      <td>0.200000</td>\n",
       "      <td>0.181209</td>\n",
       "      <td>0.267593</td>\n",
       "      <td>0.228930</td>\n",
       "      <td>0.100656</td>\n",
       "      <td>0.673961</td>\n",
       "      <td>0.700219</td>\n",
       "      <td>34.733568</td>\n",
       "    </tr>\n",
       "    <tr>\n",
       "      <td>11</td>\n",
       "      <td></td>\n",
       "      <td>12</td>\n",
       "      <td>0.600174</td>\n",
       "      <td>0.157950</td>\n",
       "      <td>0.919437</td>\n",
       "      <td>1.276071</td>\n",
       "      <td>0.182609</td>\n",
       "      <td>0.164927</td>\n",
       "      <td>0.253440</td>\n",
       "      <td>0.218271</td>\n",
       "      <td>0.091904</td>\n",
       "      <td>0.765864</td>\n",
       "      <td>-8.056322</td>\n",
       "      <td>27.607084</td>\n",
       "    </tr>\n",
       "    <tr>\n",
       "      <td>12</td>\n",
       "      <td></td>\n",
       "      <td>13</td>\n",
       "      <td>0.700130</td>\n",
       "      <td>0.142568</td>\n",
       "      <td>0.744306</td>\n",
       "      <td>1.200152</td>\n",
       "      <td>0.147826</td>\n",
       "      <td>0.150539</td>\n",
       "      <td>0.238361</td>\n",
       "      <td>0.208601</td>\n",
       "      <td>0.074398</td>\n",
       "      <td>0.840263</td>\n",
       "      <td>-25.569403</td>\n",
       "      <td>20.015158</td>\n",
       "    </tr>\n",
       "    <tr>\n",
       "      <td>13</td>\n",
       "      <td></td>\n",
       "      <td>14</td>\n",
       "      <td>0.800087</td>\n",
       "      <td>0.125004</td>\n",
       "      <td>0.656741</td>\n",
       "      <td>1.132262</td>\n",
       "      <td>0.130435</td>\n",
       "      <td>0.133633</td>\n",
       "      <td>0.224878</td>\n",
       "      <td>0.199235</td>\n",
       "      <td>0.065646</td>\n",
       "      <td>0.905908</td>\n",
       "      <td>-34.325944</td>\n",
       "      <td>13.226210</td>\n",
       "    </tr>\n",
       "    <tr>\n",
       "      <td>14</td>\n",
       "      <td></td>\n",
       "      <td>15</td>\n",
       "      <td>0.900043</td>\n",
       "      <td>0.104446</td>\n",
       "      <td>0.591067</td>\n",
       "      <td>1.072158</td>\n",
       "      <td>0.117391</td>\n",
       "      <td>0.114967</td>\n",
       "      <td>0.212941</td>\n",
       "      <td>0.189876</td>\n",
       "      <td>0.059081</td>\n",
       "      <td>0.964989</td>\n",
       "      <td>-40.893350</td>\n",
       "      <td>7.215829</td>\n",
       "    </tr>\n",
       "    <tr>\n",
       "      <td>15</td>\n",
       "      <td></td>\n",
       "      <td>16</td>\n",
       "      <td>1.000000</td>\n",
       "      <td>0.056182</td>\n",
       "      <td>0.350262</td>\n",
       "      <td>1.000000</td>\n",
       "      <td>0.069565</td>\n",
       "      <td>0.088219</td>\n",
       "      <td>0.198609</td>\n",
       "      <td>0.179715</td>\n",
       "      <td>0.035011</td>\n",
       "      <td>1.000000</td>\n",
       "      <td>-64.973837</td>\n",
       "      <td>0.000000</td>\n",
       "    </tr>\n",
       "  </tbody>\n",
       "</table>\n",
       "</div>"
      ],
      "text/plain": [
       "      group  cumulative_data_fraction  lower_threshold      lift  \\\n",
       "0         1                  0.010430         0.344487  2.097921   \n",
       "1         2                  0.020426         0.324085  1.532395   \n",
       "2         3                  0.030422         0.313123  1.970222   \n",
       "3         4                  0.040417         0.302432  1.751308   \n",
       "4         5                  0.050413         0.295431  1.970222   \n",
       "5         6                  0.100391         0.266970  1.751308   \n",
       "6         7                  0.150369         0.245081  1.619960   \n",
       "7         8                  0.200348         0.229632  1.401047   \n",
       "8         9                  0.300304         0.206846  1.357264   \n",
       "9        10                  0.400261         0.189302  1.050785   \n",
       "10       11                  0.500217         0.172803  1.007002   \n",
       "11       12                  0.600174         0.157950  0.919437   \n",
       "12       13                  0.700130         0.142568  0.744306   \n",
       "13       14                  0.800087         0.125004  0.656741   \n",
       "14       15                  0.900043         0.104446  0.591067   \n",
       "15       16                  1.000000         0.056182  0.350262   \n",
       "\n",
       "    cumulative_lift  response_rate     score  cumulative_response_rate  \\\n",
       "0          2.097921       0.416667  0.368800                  0.416667   \n",
       "1          1.821174       0.304348  0.333783                  0.361702   \n",
       "2          1.870147       0.391304  0.318792                  0.371429   \n",
       "3          1.840757       0.347826  0.307329                  0.365591   \n",
       "4          1.866426       0.391304  0.298538                  0.370690   \n",
       "5          1.809116       0.347826  0.278791                  0.359307   \n",
       "6          1.746247       0.321739  0.254879                  0.346821   \n",
       "7          1.660134       0.278261  0.236545                  0.329718   \n",
       "8          1.559323       0.269565  0.217264                  0.309696   \n",
       "9          1.432327       0.208696  0.197738                  0.284473   \n",
       "10         1.347336       0.200000  0.181209                  0.267593   \n",
       "11         1.276071       0.182609  0.164927                  0.253440   \n",
       "12         1.200152       0.147826  0.150539                  0.238361   \n",
       "13         1.132262       0.130435  0.133633                  0.224878   \n",
       "14         1.072158       0.117391  0.114967                  0.212941   \n",
       "15         1.000000       0.069565  0.088219                  0.198609   \n",
       "\n",
       "    cumulative_score  capture_rate  cumulative_capture_rate        gain  \\\n",
       "0           0.368800      0.021882                 0.021882  109.792123   \n",
       "1           0.351664      0.015317                 0.037199   53.239463   \n",
       "2           0.340863      0.019694                 0.056893   97.022167   \n",
       "3           0.332570      0.017505                 0.074398   75.130815   \n",
       "4           0.325822      0.019694                 0.094092   97.022167   \n",
       "5           0.302408      0.087527                 0.181619   75.130815   \n",
       "6           0.286611      0.080963                 0.262582   61.996004   \n",
       "7           0.274122      0.070022                 0.332604   40.104652   \n",
       "8           0.255196      0.135667                 0.468271   35.726382   \n",
       "9           0.240848      0.105033                 0.573304    5.078489   \n",
       "10          0.228930      0.100656                 0.673961    0.700219   \n",
       "11          0.218271      0.091904                 0.765864   -8.056322   \n",
       "12          0.208601      0.074398                 0.840263  -25.569403   \n",
       "13          0.199235      0.065646                 0.905908  -34.325944   \n",
       "14          0.189876      0.059081                 0.964989  -40.893350   \n",
       "15          0.179715      0.035011                 1.000000  -64.973837   \n",
       "\n",
       "    cumulative_gain  \n",
       "0        109.792123  \n",
       "1         82.117417  \n",
       "2         87.014692  \n",
       "3         84.075669  \n",
       "4         86.642647  \n",
       "5         80.911649  \n",
       "6         74.624657  \n",
       "7         66.013376  \n",
       "8         55.932321  \n",
       "9         43.232667  \n",
       "10        34.733568  \n",
       "11        27.607084  \n",
       "12        20.015158  \n",
       "13        13.226210  \n",
       "14         7.215829  \n",
       "15         0.000000  "
      ]
     },
     "metadata": {},
     "output_type": "display_data"
    },
    {
     "data": {
      "text/plain": []
     },
     "execution_count": 31,
     "metadata": {},
     "output_type": "execute_result"
    }
   ],
   "source": [
    "rf_v1_test.gains_lift()"
   ]
  },
  {
   "cell_type": "code",
   "execution_count": 32,
   "metadata": {},
   "outputs": [
    {
     "data": {
      "text/plain": [
       "0.3011343044893438"
      ]
     },
     "execution_count": 32,
     "metadata": {},
     "output_type": "execute_result"
    }
   ],
   "source": [
    "# prescion recall curve\n",
    "rf_v1_test.pr_auc()"
   ]
  },
  {
   "cell_type": "markdown",
   "metadata": {},
   "source": [
    "### Model 2:\n",
    "I'm going to focus on optimizing the precision-recall curve and lift. The models performed better than a random guess as indicated by the gains table, and it performed terribly on the precision-recall curve. \n",
    "\n",
    "Max_depth is one of the most powerful levers that tends to increase the predictive power of a random forest model. For the second, I want to see if decreasing max depth to the default values improves the model performance. \n"
   ]
  },
  {
   "cell_type": "code",
   "execution_count": 33,
   "metadata": {},
   "outputs": [
    {
     "name": "stdout",
     "output_type": "stream",
     "text": [
      "drf Model Build progress: |███████████████████████████████████████████████| 100%\n"
     ]
    }
   ],
   "source": [
    "rf_v2 = H2ORandomForestEstimator(\n",
    "        model_id = 'rf_v2',\n",
    "        ntrees = 900,\n",
    "        balance_classes = True, \n",
    "        stopping_rounds = 5, stopping_tolerance = 1e-4, stopping_metric = \"AUCPR\",\n",
    "        nfolds=10,\n",
    "        min_rows=100,\n",
    "        seed=1234)\n",
    "\n",
    "rf_v2.train(list(predictors),target,training_frame=train_hex,validation_frame=test_hex)"
   ]
  },
  {
   "cell_type": "code",
   "execution_count": 34,
   "metadata": {},
   "outputs": [],
   "source": [
    "rf_v2_test = rf_v2.model_performance(test_data=test_hex)"
   ]
  },
  {
   "cell_type": "code",
   "execution_count": 35,
   "metadata": {},
   "outputs": [
    {
     "data": {
      "image/png": "[encoded data removed]",
      "text/plain": [
       "<Figure size 648x432 with 1 Axes>"
      ]
     },
     "metadata": {
      "needs_background": "light"
     },
     "output_type": "display_data"
    }
   ],
   "source": [
    "plot_auc(rf_v2_test)"
   ]
  },
  {
   "cell_type": "code",
   "execution_count": 36,
   "metadata": {},
   "outputs": [
    {
     "data": {
      "text/plain": [
       "0.2926941434590396"
      ]
     },
     "execution_count": 36,
     "metadata": {},
     "output_type": "execute_result"
    }
   ],
   "source": [
    "# precision recall \n",
    "rf_v2_test.pr_auc()"
   ]
  },
  {
   "cell_type": "code",
   "execution_count": 37,
   "metadata": {},
   "outputs": [
    {
     "name": "stdout",
     "output_type": "stream",
     "text": [
      "\n",
      "Gains/Lift Table: Avg response rate: 19.86 %, avg score: 18.00 %\n"
     ]
    },
    {
     "data": {
      "text/html": [
       "<div>\n",
       "<style scoped>\n",
       "    .dataframe tbody tr th:only-of-type {\n",
       "        vertical-align: middle;\n",
       "    }\n",
       "\n",
       "    .dataframe tbody tr th {\n",
       "        vertical-align: top;\n",
       "    }\n",
       "\n",
       "    .dataframe thead th {\n",
       "        text-align: right;\n",
       "    }\n",
       "</style>\n",
       "<table border=\"1\" class=\"dataframe\">\n",
       "  <thead>\n",
       "    <tr style=\"text-align: right;\">\n",
       "      <th></th>\n",
       "      <th></th>\n",
       "      <th>group</th>\n",
       "      <th>cumulative_data_fraction</th>\n",
       "      <th>lower_threshold</th>\n",
       "      <th>lift</th>\n",
       "      <th>cumulative_lift</th>\n",
       "      <th>response_rate</th>\n",
       "      <th>score</th>\n",
       "      <th>cumulative_response_rate</th>\n",
       "      <th>cumulative_score</th>\n",
       "      <th>capture_rate</th>\n",
       "      <th>cumulative_capture_rate</th>\n",
       "      <th>gain</th>\n",
       "      <th>cumulative_gain</th>\n",
       "    </tr>\n",
       "  </thead>\n",
       "  <tbody>\n",
       "    <tr>\n",
       "      <td>0</td>\n",
       "      <td></td>\n",
       "      <td>1</td>\n",
       "      <td>0.010430</td>\n",
       "      <td>0.356311</td>\n",
       "      <td>1.888129</td>\n",
       "      <td>1.888129</td>\n",
       "      <td>0.375000</td>\n",
       "      <td>0.380449</td>\n",
       "      <td>0.375000</td>\n",
       "      <td>0.380449</td>\n",
       "      <td>0.019694</td>\n",
       "      <td>0.019694</td>\n",
       "      <td>88.812910</td>\n",
       "      <td>88.812910</td>\n",
       "    </tr>\n",
       "    <tr>\n",
       "      <td>1</td>\n",
       "      <td></td>\n",
       "      <td>2</td>\n",
       "      <td>0.020426</td>\n",
       "      <td>0.330817</td>\n",
       "      <td>2.408049</td>\n",
       "      <td>2.142558</td>\n",
       "      <td>0.478261</td>\n",
       "      <td>0.342346</td>\n",
       "      <td>0.425532</td>\n",
       "      <td>0.361803</td>\n",
       "      <td>0.024070</td>\n",
       "      <td>0.043764</td>\n",
       "      <td>140.804871</td>\n",
       "      <td>114.255785</td>\n",
       "    </tr>\n",
       "    <tr>\n",
       "      <td>2</td>\n",
       "      <td></td>\n",
       "      <td>3</td>\n",
       "      <td>0.030422</td>\n",
       "      <td>0.315971</td>\n",
       "      <td>1.970222</td>\n",
       "      <td>2.085933</td>\n",
       "      <td>0.391304</td>\n",
       "      <td>0.322961</td>\n",
       "      <td>0.414286</td>\n",
       "      <td>0.349041</td>\n",
       "      <td>0.019694</td>\n",
       "      <td>0.063457</td>\n",
       "      <td>97.022167</td>\n",
       "      <td>108.593310</td>\n",
       "    </tr>\n",
       "    <tr>\n",
       "      <td>3</td>\n",
       "      <td></td>\n",
       "      <td>4</td>\n",
       "      <td>0.040417</td>\n",
       "      <td>0.305786</td>\n",
       "      <td>1.094568</td>\n",
       "      <td>1.840757</td>\n",
       "      <td>0.217391</td>\n",
       "      <td>0.309958</td>\n",
       "      <td>0.365591</td>\n",
       "      <td>0.339375</td>\n",
       "      <td>0.010941</td>\n",
       "      <td>0.074398</td>\n",
       "      <td>9.456760</td>\n",
       "      <td>84.075669</td>\n",
       "    </tr>\n",
       "    <tr>\n",
       "      <td>4</td>\n",
       "      <td></td>\n",
       "      <td>5</td>\n",
       "      <td>0.050413</td>\n",
       "      <td>0.296620</td>\n",
       "      <td>1.094568</td>\n",
       "      <td>1.692805</td>\n",
       "      <td>0.217391</td>\n",
       "      <td>0.300181</td>\n",
       "      <td>0.336207</td>\n",
       "      <td>0.331604</td>\n",
       "      <td>0.010941</td>\n",
       "      <td>0.085339</td>\n",
       "      <td>9.456760</td>\n",
       "      <td>69.280540</td>\n",
       "    </tr>\n",
       "    <tr>\n",
       "      <td>5</td>\n",
       "      <td></td>\n",
       "      <td>6</td>\n",
       "      <td>0.100391</td>\n",
       "      <td>0.265433</td>\n",
       "      <td>1.488612</td>\n",
       "      <td>1.591151</td>\n",
       "      <td>0.295652</td>\n",
       "      <td>0.279439</td>\n",
       "      <td>0.316017</td>\n",
       "      <td>0.305634</td>\n",
       "      <td>0.074398</td>\n",
       "      <td>0.159737</td>\n",
       "      <td>48.861193</td>\n",
       "      <td>59.115064</td>\n",
       "    </tr>\n",
       "    <tr>\n",
       "      <td>6</td>\n",
       "      <td></td>\n",
       "      <td>7</td>\n",
       "      <td>0.150369</td>\n",
       "      <td>0.247220</td>\n",
       "      <td>1.882656</td>\n",
       "      <td>1.688038</td>\n",
       "      <td>0.373913</td>\n",
       "      <td>0.255225</td>\n",
       "      <td>0.335260</td>\n",
       "      <td>0.288880</td>\n",
       "      <td>0.094092</td>\n",
       "      <td>0.253829</td>\n",
       "      <td>88.265626</td>\n",
       "      <td>68.803835</td>\n",
       "    </tr>\n",
       "    <tr>\n",
       "      <td>7</td>\n",
       "      <td></td>\n",
       "      <td>8</td>\n",
       "      <td>0.200348</td>\n",
       "      <td>0.233485</td>\n",
       "      <td>1.313481</td>\n",
       "      <td>1.594602</td>\n",
       "      <td>0.260870</td>\n",
       "      <td>0.240027</td>\n",
       "      <td>0.316703</td>\n",
       "      <td>0.276693</td>\n",
       "      <td>0.065646</td>\n",
       "      <td>0.319475</td>\n",
       "      <td>31.348112</td>\n",
       "      <td>59.460216</td>\n",
       "    </tr>\n",
       "    <tr>\n",
       "      <td>8</td>\n",
       "      <td></td>\n",
       "      <td>9</td>\n",
       "      <td>0.300304</td>\n",
       "      <td>0.207507</td>\n",
       "      <td>1.269698</td>\n",
       "      <td>1.486458</td>\n",
       "      <td>0.252174</td>\n",
       "      <td>0.219493</td>\n",
       "      <td>0.295224</td>\n",
       "      <td>0.257654</td>\n",
       "      <td>0.126915</td>\n",
       "      <td>0.446389</td>\n",
       "      <td>26.969841</td>\n",
       "      <td>48.645764</td>\n",
       "    </tr>\n",
       "    <tr>\n",
       "      <td>9</td>\n",
       "      <td></td>\n",
       "      <td>10</td>\n",
       "      <td>0.400261</td>\n",
       "      <td>0.188711</td>\n",
       "      <td>1.291590</td>\n",
       "      <td>1.437794</td>\n",
       "      <td>0.256522</td>\n",
       "      <td>0.198783</td>\n",
       "      <td>0.285559</td>\n",
       "      <td>0.242952</td>\n",
       "      <td>0.129103</td>\n",
       "      <td>0.575492</td>\n",
       "      <td>29.158976</td>\n",
       "      <td>43.779357</td>\n",
       "    </tr>\n",
       "    <tr>\n",
       "      <td>10</td>\n",
       "      <td></td>\n",
       "      <td>11</td>\n",
       "      <td>0.500217</td>\n",
       "      <td>0.171622</td>\n",
       "      <td>0.963219</td>\n",
       "      <td>1.342961</td>\n",
       "      <td>0.191304</td>\n",
       "      <td>0.180146</td>\n",
       "      <td>0.266725</td>\n",
       "      <td>0.230402</td>\n",
       "      <td>0.096280</td>\n",
       "      <td>0.671772</td>\n",
       "      <td>-3.678052</td>\n",
       "      <td>34.296122</td>\n",
       "    </tr>\n",
       "    <tr>\n",
       "      <td>11</td>\n",
       "      <td></td>\n",
       "      <td>12</td>\n",
       "      <td>0.600174</td>\n",
       "      <td>0.155633</td>\n",
       "      <td>0.722415</td>\n",
       "      <td>1.239612</td>\n",
       "      <td>0.143478</td>\n",
       "      <td>0.163163</td>\n",
       "      <td>0.246198</td>\n",
       "      <td>0.219203</td>\n",
       "      <td>0.072210</td>\n",
       "      <td>0.743982</td>\n",
       "      <td>-27.758539</td>\n",
       "      <td>23.961167</td>\n",
       "    </tr>\n",
       "    <tr>\n",
       "      <td>12</td>\n",
       "      <td></td>\n",
       "      <td>13</td>\n",
       "      <td>0.700130</td>\n",
       "      <td>0.140803</td>\n",
       "      <td>0.941328</td>\n",
       "      <td>1.197026</td>\n",
       "      <td>0.186957</td>\n",
       "      <td>0.148198</td>\n",
       "      <td>0.237741</td>\n",
       "      <td>0.209066</td>\n",
       "      <td>0.094092</td>\n",
       "      <td>0.838074</td>\n",
       "      <td>-5.867187</td>\n",
       "      <td>19.702619</td>\n",
       "    </tr>\n",
       "    <tr>\n",
       "      <td>13</td>\n",
       "      <td></td>\n",
       "      <td>14</td>\n",
       "      <td>0.800087</td>\n",
       "      <td>0.124235</td>\n",
       "      <td>0.744306</td>\n",
       "      <td>1.140467</td>\n",
       "      <td>0.147826</td>\n",
       "      <td>0.132837</td>\n",
       "      <td>0.226507</td>\n",
       "      <td>0.199543</td>\n",
       "      <td>0.074398</td>\n",
       "      <td>0.912473</td>\n",
       "      <td>-25.569403</td>\n",
       "      <td>14.046690</td>\n",
       "    </tr>\n",
       "    <tr>\n",
       "      <td>14</td>\n",
       "      <td></td>\n",
       "      <td>15</td>\n",
       "      <td>0.900043</td>\n",
       "      <td>0.103295</td>\n",
       "      <td>0.437827</td>\n",
       "      <td>1.062434</td>\n",
       "      <td>0.086957</td>\n",
       "      <td>0.115356</td>\n",
       "      <td>0.211009</td>\n",
       "      <td>0.190193</td>\n",
       "      <td>0.043764</td>\n",
       "      <td>0.956236</td>\n",
       "      <td>-56.217296</td>\n",
       "      <td>6.243350</td>\n",
       "    </tr>\n",
       "    <tr>\n",
       "      <td>15</td>\n",
       "      <td></td>\n",
       "      <td>16</td>\n",
       "      <td>1.000000</td>\n",
       "      <td>0.057420</td>\n",
       "      <td>0.437827</td>\n",
       "      <td>1.000000</td>\n",
       "      <td>0.086957</td>\n",
       "      <td>0.088544</td>\n",
       "      <td>0.198609</td>\n",
       "      <td>0.180033</td>\n",
       "      <td>0.043764</td>\n",
       "      <td>1.000000</td>\n",
       "      <td>-56.217296</td>\n",
       "      <td>0.000000</td>\n",
       "    </tr>\n",
       "  </tbody>\n",
       "</table>\n",
       "</div>"
      ],
      "text/plain": [
       "      group  cumulative_data_fraction  lower_threshold      lift  \\\n",
       "0         1                  0.010430         0.356311  1.888129   \n",
       "1         2                  0.020426         0.330817  2.408049   \n",
       "2         3                  0.030422         0.315971  1.970222   \n",
       "3         4                  0.040417         0.305786  1.094568   \n",
       "4         5                  0.050413         0.296620  1.094568   \n",
       "5         6                  0.100391         0.265433  1.488612   \n",
       "6         7                  0.150369         0.247220  1.882656   \n",
       "7         8                  0.200348         0.233485  1.313481   \n",
       "8         9                  0.300304         0.207507  1.269698   \n",
       "9        10                  0.400261         0.188711  1.291590   \n",
       "10       11                  0.500217         0.171622  0.963219   \n",
       "11       12                  0.600174         0.155633  0.722415   \n",
       "12       13                  0.700130         0.140803  0.941328   \n",
       "13       14                  0.800087         0.124235  0.744306   \n",
       "14       15                  0.900043         0.103295  0.437827   \n",
       "15       16                  1.000000         0.057420  0.437827   \n",
       "\n",
       "    cumulative_lift  response_rate     score  cumulative_response_rate  \\\n",
       "0          1.888129       0.375000  0.380449                  0.375000   \n",
       "1          2.142558       0.478261  0.342346                  0.425532   \n",
       "2          2.085933       0.391304  0.322961                  0.414286   \n",
       "3          1.840757       0.217391  0.309958                  0.365591   \n",
       "4          1.692805       0.217391  0.300181                  0.336207   \n",
       "5          1.591151       0.295652  0.279439                  0.316017   \n",
       "6          1.688038       0.373913  0.255225                  0.335260   \n",
       "7          1.594602       0.260870  0.240027                  0.316703   \n",
       "8          1.486458       0.252174  0.219493                  0.295224   \n",
       "9          1.437794       0.256522  0.198783                  0.285559   \n",
       "10         1.342961       0.191304  0.180146                  0.266725   \n",
       "11         1.239612       0.143478  0.163163                  0.246198   \n",
       "12         1.197026       0.186957  0.148198                  0.237741   \n",
       "13         1.140467       0.147826  0.132837                  0.226507   \n",
       "14         1.062434       0.086957  0.115356                  0.211009   \n",
       "15         1.000000       0.086957  0.088544                  0.198609   \n",
       "\n",
       "    cumulative_score  capture_rate  cumulative_capture_rate        gain  \\\n",
       "0           0.380449      0.019694                 0.019694   88.812910   \n",
       "1           0.361803      0.024070                 0.043764  140.804871   \n",
       "2           0.349041      0.019694                 0.063457   97.022167   \n",
       "3           0.339375      0.010941                 0.074398    9.456760   \n",
       "4           0.331604      0.010941                 0.085339    9.456760   \n",
       "5           0.305634      0.074398                 0.159737   48.861193   \n",
       "6           0.288880      0.094092                 0.253829   88.265626   \n",
       "7           0.276693      0.065646                 0.319475   31.348112   \n",
       "8           0.257654      0.126915                 0.446389   26.969841   \n",
       "9           0.242952      0.129103                 0.575492   29.158976   \n",
       "10          0.230402      0.096280                 0.671772   -3.678052   \n",
       "11          0.219203      0.072210                 0.743982  -27.758539   \n",
       "12          0.209066      0.094092                 0.838074   -5.867187   \n",
       "13          0.199543      0.074398                 0.912473  -25.569403   \n",
       "14          0.190193      0.043764                 0.956236  -56.217296   \n",
       "15          0.180033      0.043764                 1.000000  -56.217296   \n",
       "\n",
       "    cumulative_gain  \n",
       "0         88.812910  \n",
       "1        114.255785  \n",
       "2        108.593310  \n",
       "3         84.075669  \n",
       "4         69.280540  \n",
       "5         59.115064  \n",
       "6         68.803835  \n",
       "7         59.460216  \n",
       "8         48.645764  \n",
       "9         43.779357  \n",
       "10        34.296122  \n",
       "11        23.961167  \n",
       "12        19.702619  \n",
       "13        14.046690  \n",
       "14         6.243350  \n",
       "15         0.000000  "
      ]
     },
     "metadata": {},
     "output_type": "display_data"
    },
    {
     "data": {
      "text/plain": []
     },
     "execution_count": 37,
     "metadata": {},
     "output_type": "execute_result"
    }
   ],
   "source": [
    "rf_v2_test.gains_lift()"
   ]
  },
  {
   "cell_type": "markdown",
   "metadata": {},
   "source": [
    "## Model 3: \n",
    "\n",
    "Hyperparameter Tuning is one of the most exciting aspects of training machine learning models, and its searching for the right set of hyperparameters to achieve high precision and accuracy.\n",
    "\n",
    "The primary aim of hyperparameter tuning is to find the sweet spot for the model's parameters to achieve the best performance.\n",
    "\n",
    "There are ways to test how different hyperparameters impact the performance of the model: two of the most popular techniques are grid search and random search. \n",
    "\n",
    "- Grid search: Try every combination of a preset list of values of the hyper-parameters and evaluate the model for each combination. Brute force approach. \n",
    "- Random search: A technique where random combinations of the hyperparameters are used to find the best solution for the built model. It tries random combinations of a range of values.\n",
    "\n",
    "I found that random search performs better than grid search. While an exhaustive grid search might give be the absolute optimal values, I have generally found the incremental gain in performance isn't worth the computational cost. "
   ]
  },
  {
   "cell_type": "code",
   "execution_count": 38,
   "metadata": {},
   "outputs": [],
   "source": [
    "rf_v3 = H2ORandomForestEstimator(nfolds = 5,seed = 1234,balance_classes = True)\n",
    "\n",
    "hyper_params = {'max_depth': [0,5,10,20,30],\n",
    "                 'ntrees': [200,500,700,900]}\n",
    "\n",
    "rf_grid = H2OGridSearch(model = rf_v3, hyper_params = hyper_params,\n",
    "                     search_criteria = {'strategy': \"RandomDiscrete\",'max_models': 36, \n",
    "                                        'seed': 1,\"stopping_metric\": \"AUCPR\",\n",
    "                                        \"stopping_tolerance\": 0.05, \n",
    "                                        \"stopping_rounds\": 3})"
   ]
  },
  {
   "cell_type": "code",
   "execution_count": null,
   "metadata": {},
   "outputs": [
    {
     "name": "stdout",
     "output_type": "stream",
     "text": [
      "drf Grid Build progress: |████████████"
     ]
    }
   ],
   "source": [
    "rf_grid.train(x = list(predictors), y = target, training_frame=train_hex,validation_frame=test_hex)"
   ]
  },
  {
   "cell_type": "code",
   "execution_count": null,
   "metadata": {},
   "outputs": [],
   "source": [
    "# Get the grid results, sorted by validation AUC\n",
    "rf_grid = rf_grid.get_grid(sort_by='recall', decreasing=True)"
   ]
  },
  {
   "cell_type": "code",
   "execution_count": null,
   "metadata": {},
   "outputs": [],
   "source": [
    "rf_grid= rf_grid.models[0]"
   ]
  },
  {
   "cell_type": "code",
   "execution_count": null,
   "metadata": {},
   "outputs": [],
   "source": [
    "rf_grid_test = rf_grid.model_performance(test_hex)"
   ]
  },
  {
   "cell_type": "code",
   "execution_count": null,
   "metadata": {},
   "outputs": [],
   "source": [
    "plot_auc(rf_grid_test)"
   ]
  },
  {
   "cell_type": "code",
   "execution_count": null,
   "metadata": {},
   "outputs": [],
   "source": [
    "rf_grid_test.gains_lift()"
   ]
  },
  {
   "cell_type": "code",
   "execution_count": null,
   "metadata": {},
   "outputs": [],
   "source": [
    "# precision recall curve\n",
    "rf_grid_test.pr_auc()"
   ]
  },
  {
   "cell_type": "markdown",
   "metadata": {},
   "source": [
    "Final Model: test the best performing model on the entire data set \n",
    "\n",
    "The best performing model is model 2. Lets test it on the entire dataset "
   ]
  },
  {
   "cell_type": "code",
   "execution_count": null,
   "metadata": {},
   "outputs": [],
   "source": [
    "rf_v2.train(x = list(predictors), y = target, training_frame=train_full,validation_frame=test_full)"
   ]
  },
  {
   "cell_type": "code",
   "execution_count": null,
   "metadata": {},
   "outputs": [],
   "source": [
    "rf_v2_test = rf_grid.model_performance(test_full)"
   ]
  },
  {
   "cell_type": "code",
   "execution_count": null,
   "metadata": {},
   "outputs": [],
   "source": [
    "plot_auc(rf_v2_test)"
   ]
  },
  {
   "cell_type": "code",
   "execution_count": null,
   "metadata": {},
   "outputs": [],
   "source": [
    "rf_v2_test.gains_lift()"
   ]
  },
  {
   "cell_type": "code",
   "execution_count": null,
   "metadata": {},
   "outputs": [],
   "source": [
    "rf_v2_test.pr_auc()"
   ]
  },
  {
   "cell_type": "markdown",
   "metadata": {},
   "source": [
    "### Gradient Boosting\n",
    "\n",
    "I train a GBM with parameters. Iuse early stopping to automatically tune the number of trees using the validation AUC. I also use a lower learning rate, and stochastic sampling of rows and columns to improve generalization. I use this first model to benchmark peformance against. "
   ]
  },
  {
   "cell_type": "markdown",
   "metadata": {},
   "source": [
    "### Model 1 \n",
    "\n",
    "The first model with random paramaters performs slightly better than the optimized random forest model.  "
   ]
  },
  {
   "cell_type": "code",
   "execution_count": null,
   "metadata": {},
   "outputs": [],
   "source": [
    "gbm_v1 = H2OGradientBoostingEstimator(\n",
    "        model_id = 'gbm_v1',\n",
    "        nfolds = 10,\n",
    "        ntrees = 10000,\n",
    "        learn_rate = 0.01,\n",
    "        stopping_rounds = 5, stopping_tolerance = 1e-4, stopping_metric = \"AUCPR\",\n",
    "        sample_rate = 0.8,\n",
    "        balance_classes = True,\n",
    "        col_sample_rate = 0.8,\n",
    "        score_tree_interval = 10,\n",
    "        seed=9181)"
   ]
  },
  {
   "cell_type": "code",
   "execution_count": null,
   "metadata": {},
   "outputs": [],
   "source": [
    "gbm_v1.train(list(predictors),target,training_frame=train_hex)"
   ]
  },
  {
   "cell_type": "code",
   "execution_count": null,
   "metadata": {},
   "outputs": [],
   "source": [
    "gbm_v1_test = gbm_v1.model_performance(test_hex)"
   ]
  },
  {
   "cell_type": "code",
   "execution_count": null,
   "metadata": {},
   "outputs": [],
   "source": [
    "plot_auc(gbm_v1_test)"
   ]
  },
  {
   "cell_type": "code",
   "execution_count": null,
   "metadata": {},
   "outputs": [],
   "source": [
    "gbm_v1_test.gains_lift()"
   ]
  },
  {
   "cell_type": "code",
   "execution_count": null,
   "metadata": {},
   "outputs": [],
   "source": [
    "gbm_v1_test.pr_auc()"
   ]
  },
  {
   "cell_type": "markdown",
   "metadata": {},
   "source": [
    "### Model 2\n",
    "\n",
    "Next, we'll do real hyper-parameter optimization to see if we can beat the best prescision recall.\n",
    "\n",
    "The key here is to start tuning some key parameters first (i.e., those that we expect to have the biggest impact on the results). From experience with gradient boosted trees across many datasets, we can state the following \"rules\":\n",
    "\n",
    "1. Build as many trees (ntrees) as it takes until the validation set error starts increasing.\n",
    "2. A lower learning rate (learn_rate) is generally better, but will require more trees. Using learn_rate=0.02and learn_rate_annealing=0.995 (reduction of learning rate with each additional tree) can help speed up convergence without sacrificing accuracy too much, and is great to hyper-parameter searches. For faster scans, use values of 0.05 and 0.99 instead.\n",
    "  \n",
    "3. The optimum maximum allowed depth for the trees (max_depth) is data dependent, deeper trees take longer to train, especially at depths greater than 10.\n",
    "4. Row and column sampling (sample_rate and col_sample_rate) can improve generalization and lead to lower validation and test set errors. Good general values for large datasets are around 0.7 to 0.8 (sampling 70-80 percent of the data) for both parameters. Column sampling per tree (col_sample_rate_per_tree) can also be tuned. Note that it is multiplicative with col_sample_rate, so setting both parameters to 0.8 results in 64% of columns being considered at any given node to split.\n",
    "5. For highly imbalanced classification datasets, stratified row sampling based on response class membership can help improve predictive accuracy. It is configured with sample_rate_per_class (array of ratios, one per response class in lexicographic order).\n",
    "6. Most other options only have a small impact on the model performance, but are worth tuning with a Random hyper-parameter search nonetheless, if highest performance is critical.\n"
   ]
  },
  {
   "cell_type": "code",
   "execution_count": null,
   "metadata": {},
   "outputs": [],
   "source": [
    "hyper_params_tune = {'max_depth' : list(range(12,30+1,1)),\n",
    "                'sample_rate': [x/100. for x in range(20,101)],\n",
    "                'col_sample_rate' : [x/100. for x in range(20,101)],\n",
    "                'col_sample_rate_per_tree': [x/100. for x in range(20,101)],\n",
    "                'col_sample_rate_change_per_level': [x/100. for x in range(90,111)],\n",
    "                'nbins': [2**x for x in range(4,11)],\n",
    "                'nbins_cats': [2**x for x in range(4,13)],\n",
    "                'min_split_improvement': [0,1e-8,1e-6,1e-4],\n",
    "                'histogram_type': [\"UniformAdaptive\",\"QuantilesGlobal\",\"RoundRobin\"]}\n",
    "\n",
    "search_criteria_tune = {'strategy': \"RandomDiscrete\",\n",
    "                   'max_runtime_secs': 3600,  \n",
    "                   'max_models': 20,  \n",
    "                   'seed' : 1234,\n",
    "                   'stopping_rounds' : 5,\n",
    "                   'stopping_metric' : \"AUCPR\",\n",
    "                   'stopping_tolerance': 1e-3\n",
    "                   }"
   ]
  },
  {
   "cell_type": "code",
   "execution_count": null,
   "metadata": {},
   "outputs": [],
   "source": [
    "gbm_grid_v1 = H2OGradientBoostingEstimator(\n",
    "                    ntrees=10000,\n",
    "                    learn_rate=0.01,\n",
    "                    learn_rate_annealing = 0.99,\n",
    "                    score_tree_interval = 10,\n",
    "                    seed = 1234,\n",
    "                    stopping_rounds = 5,\n",
    "                    stopping_metric = \"AUCPR\",\n",
    "                    stopping_tolerance = 1e-4)\n",
    "            \n",
    "#Build grid search with previously made GBM and hyper parameters\n",
    "gbm_v2 = H2OGridSearch(gbm_grid_v1, hyper_params = hyper_params_tune,\n",
    "                                    grid_id = 'final_grid',\n",
    "                                    search_criteria = search_criteria_tune)"
   ]
  },
  {
   "cell_type": "code",
   "execution_count": null,
   "metadata": {},
   "outputs": [],
   "source": [
    "gbm_v2.train(list(predictors),target,training_frame=train_hex)"
   ]
  },
  {
   "cell_type": "code",
   "execution_count": null,
   "metadata": {},
   "outputs": [],
   "source": [
    "sorted_gbm_v2 = gbm_v2.get_grid(sort_by='recall',decreasing=True)\n",
    "print(sorted_gbm_v2)"
   ]
  },
  {
   "cell_type": "code",
   "execution_count": null,
   "metadata": {},
   "outputs": [],
   "source": [
    "gbm_v2_top_model = sorted_gbm_v2.models[0]"
   ]
  },
  {
   "cell_type": "code",
   "execution_count": null,
   "metadata": {},
   "outputs": [],
   "source": [
    "gbm_v2_test = gbm_v2_top_model.model_performance(test_data=test_hex)"
   ]
  },
  {
   "cell_type": "code",
   "execution_count": null,
   "metadata": {},
   "outputs": [],
   "source": [
    "plot_auc(gbm_v2_test)"
   ]
  },
  {
   "cell_type": "code",
   "execution_count": null,
   "metadata": {},
   "outputs": [],
   "source": [
    "gbm_v2_test.gains_lift()"
   ]
  },
  {
   "cell_type": "code",
   "execution_count": null,
   "metadata": {},
   "outputs": [],
   "source": [
    "gbm_v2_test.pr_auc()"
   ]
  },
  {
   "cell_type": "markdown",
   "metadata": {},
   "source": [
    "The best model was the first model with random values intialized  lets train it on the full model"
   ]
  },
  {
   "cell_type": "code",
   "execution_count": null,
   "metadata": {},
   "outputs": [],
   "source": [
    "gbm_v1.train(list(predictors),target,training_frame=train_full, validation_frame=test_full)"
   ]
  },
  {
   "cell_type": "code",
   "execution_count": null,
   "metadata": {},
   "outputs": [],
   "source": []
  },
  {
   "cell_type": "markdown",
   "metadata": {},
   "source": [
    "Concusion: \n",
    "\n",
    "- All paramters are not created equal. Certain parameters have greater impact on model performance. \n",
    "- Early stopping is a great to stop running models if performance isn't improving \n",
    "- Understanding your data and cleaning data, can dramatatically improve performance. \n",
    "- In both examples the best model was where the hyperamaters were random"
   ]
  }
 ],
 "metadata": {
  "kernelspec": {
   "display_name": "Python 3",
   "language": "python",
   "name": "python3"
  },
  "language_info": {
   "codemirror_mode": {
    "name": "ipython",
    "version": 3
   },
   "file_extension": ".py",
   "mimetype": "text/x-python",
   "name": "python",
   "nbconvert_exporter": "python",
   "pygments_lexer": "ipython3",
   "version": "3.7.4"
  }
 },
 "nbformat": 4,
 "nbformat_minor": 4
}
